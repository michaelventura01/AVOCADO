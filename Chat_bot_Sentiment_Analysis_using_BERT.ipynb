{
  "nbformat": 4,
  "nbformat_minor": 0,
  "metadata": {
    "colab": {
      "provenance": [],
      "include_colab_link": true
    },
    "kernelspec": {
      "name": "python3",
      "display_name": "Python 3"
    },
    "language_info": {
      "name": "python"
    }
  },
  "cells": [
    {
      "cell_type": "markdown",
      "metadata": {
        "id": "view-in-github",
        "colab_type": "text"
      },
      "source": [
        "<a href=\"https://colab.research.google.com/github/michaelventura01/AVOCADO/blob/main/Chat_bot_Sentiment_Analysis_using_BERT.ipynb\" target=\"_parent\"><img src=\"https://colab.research.google.com/assets/colab-badge.svg\" alt=\"Open In Colab\"/></a>"
      ]
    },
    {
      "cell_type": "code",
      "source": [],
      "metadata": {
        "id": "VEUzsJ93i4Xd"
      },
      "execution_count": null,
      "outputs": []
    },
    {
      "cell_type": "markdown",
      "source": [
        "## Sentiment Analysis using BERT\n",
        "**Bidirectional Encoder Representations from Transformers.**\n",
        "Es un modelo de lenguaje desarrollado por Google en 2018 que revolucionó el procesamiento de lenguaje natural (NLP) por su capacidad para entender el contexto completo de una palabra en una oración."
      ],
      "metadata": {
        "id": "1FuK6g7XjFdM"
      }
    },
    {
      "cell_type": "markdown",
      "source": [
        "### **Título: Sentiment analysis classification system using hybrid BERT models**\n",
        "#### **Autor: Amira Samy Talaat et al.**\n",
        "#### **Revista: Journal of Big Data (Vol. 10, Artículo n.º 110, 2023)**\n",
        "\n",
        "#### **Enlace:** https://journalofbigdata.springeropen.com/articles/10.1186/s40537-023-00781-w\n",
        "\n",
        "https://huggingface.co/verneylmavt/bert-base-uncased_sentiment-analysis\n",
        "\n",
        "### **Resumen:** El estudio propone diversos modelos híbridos basados en BERT combinados con capas de BiLSTM y BiGRU para realizar clasificación de sentimiento en comentarios de redes sociales, comparando rendimiento frente a modelos clásicos.\n"
      ],
      "metadata": {
        "id": "sMYzEnFMiVE7"
      }
    },
    {
      "cell_type": "markdown",
      "source": [
        "### **Objetivo del estudio**\n",
        "\n",
        "El estudio busca mejorar la precisión del análisis de sentimiento (positivo, negativo, neutral) en textos de redes sociales mediante modelos híbridos que combinan versiones pre‑entrenadas de BERT con capas adicionales de redes recurrentes (específicamente BiLSTM y BiGRU).\n",
        "\n",
        "\n",
        "#### **Metodología**\n",
        "\n",
        "Se utilizan tres conjuntos de datos públicos de tweets con etiquetas de sentimiento (positivo/negativo/neutral).\n",
        "\n",
        "Se comparan las siguientes técnicas:\n",
        "\n",
        "* Modelos clásicos de aprendizaje automático (árboles de decisión, SVM, Naive Bayes, regresión logística, etc.).\n",
        "\n",
        "\n",
        "* Modelos basados en BERT pre‑entrenado (dos variantes: uno tipo “BERT base” / RoBERTa, otro “DistilBERT” más liviano).\n",
        "\n",
        "\n",
        "* Modelos híbridos donde al BERT/DistilBERT se le añaden capas de BiGRU/BiLSTM (por ejemplo: BERT → BiGRU → BiLSTM → BiGRU).\n",
        "\n",
        "* Se prueba el impacto de incluir o eliminar emojis en el pre‑procesamiento del texto para ver si estos símbolos afectan la clasificación.\n",
        "\n",
        "* Preprocesamiento: normalización de texto, eliminación de hashtags, URLs, números, puntuación, opcionalmente emojis. Tokenización para BERT.\n",
        "\n",
        "* **Configuración de entrenamiento:** optimizador AdamW, tasa de aprendizaje de 5e‑5, batch size 16, epochs 10, división de datos 80% entrenamiento / 10% validación / 10% prueba.\n",
        "SpringerOpen\n",
        "\n",
        "#### **Resultados**\n",
        "\n",
        "Los modelos híbridos (BERT + BiGRU/BiLSTM) superan en precisión a los modelos clásicos.\n",
        "\n",
        "En particular, las mejores combinaciones fueron:\n",
        "\n",
        "* **Para conjuntos grandes:** RoBERTa con capas BiGRU (3 capas “3G”) obtuvo ~91.72% en el dataset más pequeño.\n",
        "\n",
        "* DistilBERT con configuración GLG (BiGRU → BiLSTM → BiGRU) obtuvo mejoras de precisión respecto a DistilBERT sin capas extra: hasta +1.84% en el dataset “Apple”.\n",
        "\n",
        "* La presencia o ausencia de emojis sí afectó la precisión: eliminar emojis hizo caer el rendimiento en algunos casos.\n",
        "\n",
        "* GRU (gated recurrent units) demostraron mejor eficiencia computacional que LSTM en este contexto, sin pérdida de precisión clara.\n",
        "\n",
        "#### **Conclusiones**\n",
        "\n",
        "* El enfoque híbrido de BERT + BiGRU/BiLSTM es una vía prometedora para mejorar la clasificación de sentimientos en texto corto de redes sociales.\n",
        "\n",
        "* Los modelos más ligeros (como DistilBERT) con capas adicionales pueden acercarse al rendimiento de modelos más grandes (RoBERTa) con menor coste computacional.\n",
        "\n",
        "* La eliminación de emojis no siempre es benéfica: en ciertos datasets, los emojis constituyen señales que ayudan a la clasificación.\n",
        "\n",
        "* Para futuras líneas de trabajo, la autora sugiere combinar estos modelos con algoritmos clásicos de clasificación de texto y explorar nuevas técnicas de extracción y selección de características."
      ],
      "metadata": {
        "id": "IGeSs680nAn7"
      }
    },
    {
      "cell_type": "markdown",
      "source": [
        "### ANALISIS DEL MODELO BERT"
      ],
      "metadata": {
        "id": "NJtj9nq6rJOP"
      }
    },
    {
      "cell_type": "markdown",
      "source": [
        "\n",
        "#### **Ventajas**\n",
        "\n",
        "**Mejor comprensión de las emociones del usuario:**\n",
        "\n",
        "* El análisis de sentimiento con BERT permite que el chatbot entienda si el usuario está contento, molesto o neutral, lo que ayuda a responder de forma más empática y adecuada.\n",
        "\n",
        "* **Modelos preentrenados muy potentes:**\n",
        "Usar BERT y la librería Hugging Face evita tener que entrenar desde cero, ahorrando tiempo y recursos.\n",
        "\n",
        "* **Fácil de implementar:**\n",
        "La API pipeline de Hugging Face facilita mucho añadir análisis de sentimiento y construir un chatbot básico en pocas líneas de código.\n",
        "\n",
        "* **Flexible:**\n",
        "Puedes personalizar respuestas según el sentimiento detectado o incluso usarlo para decidir cuándo pasar la conversación a un agente humano.\n",
        "\n",
        "* **Ligero para casos simples:**\n",
        "Ideal para chatbots básicos donde la comprensión del sentimiento mejora la experiencia del usuario sin necesidad de infraestructuras complejas.\n",
        "\n",
        "#### **Desventajas**\n",
        "\n",
        "* **Conversación limitada:**\n",
        "El chatbot solo responde según el sentimiento, no entiende el contexto, preguntas complejas ni recuerda interacciones previas.\n",
        "\n",
        "* **Análisis de sentimiento muy general:**\n",
        "Los sentimientos suelen clasificarse en positivo, negativo o neutral, lo que puede simplificar demasiado y perder matices emocionales.\n",
        "\n",
        "* **No adaptado a dominios específicos:**\n",
        "Los modelos preentrenados pueden funcionar mal con textos especializados (médico, legal, técnico) sin entrenamiento adicional.\n",
        "\n",
        "* **Rendimiento y latencia:**\n",
        "Ejecutar BERT puede ser costoso en recursos y lento para respuestas en tiempo real si hay muchos usuarios simultáneos.\n",
        "\n",
        "* **Sin gestión avanzada de diálogo:**\n",
        "No tiene capacidades para manejar flujos conversacionales complejos, entender intenciones o extraer información (slots) como herramientas especializadas.\n",
        "\n",
        "* **Dependencia de librerías y modelos externos:**\n",
        "El proyecto depende de servicios o modelos de terceros (como Hugging Face), que podrían cambiar y afectar el funcionamiento.\n",
        "\n",
        "\n",
        "#### **Resumen**\n",
        "<table>\n",
        "<tr><th>Ventajas</th><th>\tDesventajas</th></tr>\n",
        "<tr><td>Mejor entendimiento emocional</td><td>\tConversación simple y sin contexto</td></tr>\n",
        "<tr><td>Modelos potentes preentrenados</td><td>Sentimiento muy general<td></tr>\n",
        "<tr><td>Fácil y rápido de implementar</td><td>No adaptado a dominios específicos<td></tr>\n",
        "<tr><td>Flexible y personalizable</td><td>Requiere recursos computacionales<td></tr>\n",
        "<tr><td>Ligero para casos sencillos</td><td>Sin gestión avanzada de diálogo<td></tr>\n",
        "</table>\n"
      ],
      "metadata": {
        "id": "IAFYPxrnMiz9"
      }
    },
    {
      "cell_type": "markdown",
      "source": [
        "### PREPARANDO AMBIENTE"
      ],
      "metadata": {
        "id": "Zlrm5NDRknwu"
      }
    },
    {
      "cell_type": "code",
      "source": [
        "pip install transformers torch"
      ],
      "metadata": {
        "colab": {
          "base_uri": "https://localhost:8080/"
        },
        "id": "mjwXdL0bkvfH",
        "outputId": "8a0267ad-8cfa-4fde-d7a9-54b0d42033f0"
      },
      "execution_count": null,
      "outputs": [
        {
          "output_type": "stream",
          "name": "stdout",
          "text": [
            "Requirement already satisfied: transformers in /usr/local/lib/python3.12/dist-packages (4.57.1)\n",
            "Requirement already satisfied: torch in /usr/local/lib/python3.12/dist-packages (2.8.0+cu126)\n",
            "Requirement already satisfied: filelock in /usr/local/lib/python3.12/dist-packages (from transformers) (3.20.0)\n",
            "Requirement already satisfied: huggingface-hub<1.0,>=0.34.0 in /usr/local/lib/python3.12/dist-packages (from transformers) (0.35.3)\n",
            "Requirement already satisfied: numpy>=1.17 in /usr/local/lib/python3.12/dist-packages (from transformers) (2.0.2)\n",
            "Requirement already satisfied: packaging>=20.0 in /usr/local/lib/python3.12/dist-packages (from transformers) (25.0)\n",
            "Requirement already satisfied: pyyaml>=5.1 in /usr/local/lib/python3.12/dist-packages (from transformers) (6.0.3)\n",
            "Requirement already satisfied: regex!=2019.12.17 in /usr/local/lib/python3.12/dist-packages (from transformers) (2024.11.6)\n",
            "Requirement already satisfied: requests in /usr/local/lib/python3.12/dist-packages (from transformers) (2.32.4)\n",
            "Requirement already satisfied: tokenizers<=0.23.0,>=0.22.0 in /usr/local/lib/python3.12/dist-packages (from transformers) (0.22.1)\n",
            "Requirement already satisfied: safetensors>=0.4.3 in /usr/local/lib/python3.12/dist-packages (from transformers) (0.6.2)\n",
            "Requirement already satisfied: tqdm>=4.27 in /usr/local/lib/python3.12/dist-packages (from transformers) (4.67.1)\n",
            "Requirement already satisfied: typing-extensions>=4.10.0 in /usr/local/lib/python3.12/dist-packages (from torch) (4.15.0)\n",
            "Requirement already satisfied: setuptools in /usr/local/lib/python3.12/dist-packages (from torch) (75.2.0)\n",
            "Requirement already satisfied: sympy>=1.13.3 in /usr/local/lib/python3.12/dist-packages (from torch) (1.13.3)\n",
            "Requirement already satisfied: networkx in /usr/local/lib/python3.12/dist-packages (from torch) (3.5)\n",
            "Requirement already satisfied: jinja2 in /usr/local/lib/python3.12/dist-packages (from torch) (3.1.6)\n",
            "Requirement already satisfied: fsspec in /usr/local/lib/python3.12/dist-packages (from torch) (2025.3.0)\n",
            "Requirement already satisfied: nvidia-cuda-nvrtc-cu12==12.6.77 in /usr/local/lib/python3.12/dist-packages (from torch) (12.6.77)\n",
            "Requirement already satisfied: nvidia-cuda-runtime-cu12==12.6.77 in /usr/local/lib/python3.12/dist-packages (from torch) (12.6.77)\n",
            "Requirement already satisfied: nvidia-cuda-cupti-cu12==12.6.80 in /usr/local/lib/python3.12/dist-packages (from torch) (12.6.80)\n",
            "Requirement already satisfied: nvidia-cudnn-cu12==9.10.2.21 in /usr/local/lib/python3.12/dist-packages (from torch) (9.10.2.21)\n",
            "Requirement already satisfied: nvidia-cublas-cu12==12.6.4.1 in /usr/local/lib/python3.12/dist-packages (from torch) (12.6.4.1)\n",
            "Requirement already satisfied: nvidia-cufft-cu12==11.3.0.4 in /usr/local/lib/python3.12/dist-packages (from torch) (11.3.0.4)\n",
            "Requirement already satisfied: nvidia-curand-cu12==10.3.7.77 in /usr/local/lib/python3.12/dist-packages (from torch) (10.3.7.77)\n",
            "Requirement already satisfied: nvidia-cusolver-cu12==11.7.1.2 in /usr/local/lib/python3.12/dist-packages (from torch) (11.7.1.2)\n",
            "Requirement already satisfied: nvidia-cusparse-cu12==12.5.4.2 in /usr/local/lib/python3.12/dist-packages (from torch) (12.5.4.2)\n",
            "Requirement already satisfied: nvidia-cusparselt-cu12==0.7.1 in /usr/local/lib/python3.12/dist-packages (from torch) (0.7.1)\n",
            "Requirement already satisfied: nvidia-nccl-cu12==2.27.3 in /usr/local/lib/python3.12/dist-packages (from torch) (2.27.3)\n",
            "Requirement already satisfied: nvidia-nvtx-cu12==12.6.77 in /usr/local/lib/python3.12/dist-packages (from torch) (12.6.77)\n",
            "Requirement already satisfied: nvidia-nvjitlink-cu12==12.6.85 in /usr/local/lib/python3.12/dist-packages (from torch) (12.6.85)\n",
            "Requirement already satisfied: nvidia-cufile-cu12==1.11.1.6 in /usr/local/lib/python3.12/dist-packages (from torch) (1.11.1.6)\n",
            "Requirement already satisfied: triton==3.4.0 in /usr/local/lib/python3.12/dist-packages (from torch) (3.4.0)\n",
            "Requirement already satisfied: hf-xet<2.0.0,>=1.1.3 in /usr/local/lib/python3.12/dist-packages (from huggingface-hub<1.0,>=0.34.0->transformers) (1.1.10)\n",
            "Requirement already satisfied: mpmath<1.4,>=1.1.0 in /usr/local/lib/python3.12/dist-packages (from sympy>=1.13.3->torch) (1.3.0)\n",
            "Requirement already satisfied: MarkupSafe>=2.0 in /usr/local/lib/python3.12/dist-packages (from jinja2->torch) (3.0.3)\n",
            "Requirement already satisfied: charset_normalizer<4,>=2 in /usr/local/lib/python3.12/dist-packages (from requests->transformers) (3.4.4)\n",
            "Requirement already satisfied: idna<4,>=2.5 in /usr/local/lib/python3.12/dist-packages (from requests->transformers) (3.11)\n",
            "Requirement already satisfied: urllib3<3,>=1.21.1 in /usr/local/lib/python3.12/dist-packages (from requests->transformers) (2.5.0)\n",
            "Requirement already satisfied: certifi>=2017.4.17 in /usr/local/lib/python3.12/dist-packages (from requests->transformers) (2025.10.5)\n"
          ]
        }
      ]
    },
    {
      "cell_type": "code",
      "source": [
        "from transformers import pipeline\n",
        "from transformers import pipeline\n",
        "from sklearn.metrics import confusion_matrix, classification_report\n",
        "import pandas as pd\n",
        "import seaborn as sns\n",
        "import matplotlib.pyplot as plt"
      ],
      "metadata": {
        "id": "ohi17W3jkmdh"
      },
      "execution_count": null,
      "outputs": []
    },
    {
      "cell_type": "markdown",
      "source": [
        "### PRUEBA UNITARIA DE MODELO"
      ],
      "metadata": {
        "id": "4cB8LZZ5k0Ay"
      }
    },
    {
      "cell_type": "code",
      "execution_count": null,
      "metadata": {
        "id": "TocnYLTDJEBM",
        "colab": {
          "base_uri": "https://localhost:8080/"
        },
        "outputId": "dfd25cb0-5c92-461a-dd6f-846c1cc54d49"
      },
      "outputs": [
        {
          "output_type": "stream",
          "name": "stderr",
          "text": [
            "No model was supplied, defaulted to distilbert/distilbert-base-uncased-finetuned-sst-2-english and revision 714eb0f (https://huggingface.co/distilbert/distilbert-base-uncased-finetuned-sst-2-english).\n",
            "Using a pipeline without specifying a model name and revision in production is not recommended.\n",
            "Device set to use cpu\n"
          ]
        },
        {
          "output_type": "stream",
          "name": "stdout",
          "text": [
            "Text: I love this product! It's amazing.\n",
            "Sentiment: POSITIVE, Confidence: 0.9999\n",
            "\n",
            "Text: This is the worst experience I've ever had.\n",
            "Sentiment: NEGATIVE, Confidence: 0.9998\n",
            "\n",
            "Text: It's okay, nothing special.\n",
            "Sentiment: NEGATIVE, Confidence: 0.8190\n",
            "\n"
          ]
        }
      ],
      "source": [
        "# Load pre-trained sentiment-analysis pipeline\n",
        "sentiment_analyzer = pipeline(\"sentiment-analysis\")\n",
        "\n",
        "# Sample texts\n",
        "texts = [\n",
        "    \"I love this product! It's amazing.\",\n",
        "    \"This is the worst experience I've ever had.\",\n",
        "    \"It's okay, nothing special.\"\n",
        "]\n",
        "\n",
        "# Analyze sentiment\n",
        "results = sentiment_analyzer(texts)\n",
        "\n",
        "for text, result in zip(texts, results):\n",
        "    print(f\"Text: {text}\\nSentiment: {result['label']}, Confidence: {result['score']:.4f}\\n\")"
      ]
    },
    {
      "cell_type": "markdown",
      "source": [
        "### VALIDACION DE MODELO"
      ],
      "metadata": {
        "id": "HDfd49f4lZj5"
      }
    },
    {
      "cell_type": "code",
      "source": [
        "# Cargar modelo BERT multilingüe para análisis de sentimiento\n",
        "modelo = pipeline(\"sentiment-analysis\", model=\"nlptown/bert-base-multilingual-uncased-sentiment\")\n",
        "\n",
        "# Datos de prueba (ejemplo: español e inglés)\n",
        "# Etiquetas verdaderas: positivo = 1, negativo = 0\n",
        "datos = [\n",
        "    {\"texto\": \"Este producto es excelente\", \"label\": 1},\n",
        "    {\"texto\": \"No me gustó nada\", \"label\": 0},\n",
        "    {\"texto\": \"Muy satisfecho con el servicio\", \"label\": 1},\n",
        "    {\"texto\": \"Terrible atención al cliente\", \"label\": 0},\n",
        "    {\"texto\": \"It's amazing!\", \"label\": 1},\n",
        "    {\"texto\": \"Worst experience ever\", \"label\": 0}\n",
        "]\n",
        "\n",
        "# Predecir y convertir predicciones a binario\n",
        "def convertir_prediccion(pred):\n",
        "    estrellas = int(pred['label'][0])\n",
        "    return 1 if estrellas >= 4 else 0\n",
        "\n",
        "# Ejecutar predicciones\n",
        "y_true = []\n",
        "y_pred = []\n",
        "\n",
        "for item in datos:\n",
        "    resultado = modelo(item['texto'])[0]\n",
        "    pred = convertir_prediccion(resultado)\n",
        "    y_true.append(item['label'])\n",
        "    y_pred.append(pred)\n",
        "\n",
        "# Mostrar matriz de confusión\n",
        "matriz = confusion_matrix(y_true, y_pred)\n",
        "print(\"Matriz de Confusión:\\n\", matriz)\n",
        "\n",
        "# Reporte de métricas\n",
        "print(\"\\nReporte de Clasificación:\")\n",
        "print(classification_report(y_true, y_pred, target_names=[\"Negativo\", \"Positivo\"]))\n",
        "\n",
        "# Graficar matriz de confusion\n",
        "sns.heatmap(matriz, annot=True, fmt=\"d\", cmap=\"Blues\", xticklabels=[\"Negativo\", \"Positivo\"], yticklabels=[\"Negativo\", \"Positivo\"])\n",
        "plt.xlabel(\"Predicción\")\n",
        "plt.ylabel(\"Valor Real\")\n",
        "plt.title(\"Matriz de Confusión - Sentimiento\")\n",
        "plt.show()"
      ],
      "metadata": {
        "colab": {
          "base_uri": "https://localhost:8080/",
          "height": 732
        },
        "id": "YituAUxnkK5S",
        "outputId": "92dcf95d-052e-49d8-dcf2-97e5387f317f"
      },
      "execution_count": null,
      "outputs": [
        {
          "output_type": "stream",
          "name": "stderr",
          "text": [
            "Device set to use cpu\n"
          ]
        },
        {
          "output_type": "stream",
          "name": "stdout",
          "text": [
            "Matriz de Confusión:\n",
            " [[3 0]\n",
            " [0 3]]\n",
            "\n",
            "Reporte de Clasificación:\n",
            "              precision    recall  f1-score   support\n",
            "\n",
            "    Negativo       1.00      1.00      1.00         3\n",
            "    Positivo       1.00      1.00      1.00         3\n",
            "\n",
            "    accuracy                           1.00         6\n",
            "   macro avg       1.00      1.00      1.00         6\n",
            "weighted avg       1.00      1.00      1.00         6\n",
            "\n"
          ]
        },
        {
          "output_type": "display_data",
          "data": {
            "text/plain": [
              "<Figure size 640x480 with 2 Axes>"
            ],
            "image/png": "[encoded data removed]"
          },
          "metadata": {}
        }
      ]
    },
    {
      "cell_type": "markdown",
      "source": [
        "### IMPLEMENTACION DE CHATBOT"
      ],
      "metadata": {
        "id": "XZCVxFSwldu6"
      }
    },
    {
      "cell_type": "code",
      "source": [
        "classifier = pipeline(\"sentiment-analysis\", model=\"nlptown/bert-base-multilingual-uncased-sentiment\")\n",
        "\n",
        "def analizar_sentimiento(texto):\n",
        "    resultado = classifier(texto)[0]\n",
        "    estrellas = int(resultado['label'][0])  # modelo da una puntuación de 1 a 5 estrellas\n",
        "    if estrellas <= 2:\n",
        "        sentimiento = \"Negativo\"\n",
        "    elif estrellas == 3:\n",
        "        sentimiento = \"Neutral\"\n",
        "    else:\n",
        "        sentimiento = \"Positivo\"\n",
        "    return sentimiento, resultado['score']\n",
        "\n",
        "def chatbot():\n",
        "    print(\"Chatbot con análisis de sentimiento (Español/Inglés)\")\n",
        "    print(\"Escribe 'salir' para terminar.\\n\")\n",
        "    while True:\n",
        "        texto = input(\"Tú: \")\n",
        "        if texto.lower() in ['salir', 'exit']:\n",
        "            print(\"Bot: ¡Hasta luego!\")\n",
        "            break\n",
        "        sentimiento, confianza = analizar_sentimiento(texto)\n",
        "        print(f\"Sentimiento detectado: {sentimiento} (confianza: {confianza:.2f})\")\n",
        "\n",
        "        # respuesta del bot segun el sentimiento\n",
        "        if sentimiento == \"Positivo\":\n",
        "            print(\"Bot: ¡Me alegra escuchar eso!\\n\")\n",
        "        elif sentimiento == \"Negativo\":\n",
        "            print(\"Bot: Lo siento mucho ¿Cómo puedo ayudarte?\\n\")\n",
        "        else:\n",
        "            print(\"Bot: Entiendo. ¿Quieres contarme más?\\n\")\n",
        "\n"
      ],
      "metadata": {
        "colab": {
          "base_uri": "https://localhost:8080/"
        },
        "id": "SUknXphfbYeU",
        "outputId": "2bbe8171-2ca1-47d5-84dc-b41204f10505"
      },
      "execution_count": null,
      "outputs": [
        {
          "output_type": "stream",
          "name": "stderr",
          "text": [
            "Device set to use cpu\n"
          ]
        }
      ]
    },
    {
      "cell_type": "markdown",
      "source": [
        "### EJECUCION DEL CHAT"
      ],
      "metadata": {
        "id": "Nov_qJ5Fht34"
      }
    },
    {
      "cell_type": "code",
      "source": [
        "chatbot()"
      ],
      "metadata": {
        "colab": {
          "base_uri": "https://localhost:8080/"
        },
        "id": "SxqIczxvhkps",
        "outputId": "df49c0c4-b5c5-4d07-d810-20ad1bf9fc6f"
      },
      "execution_count": null,
      "outputs": [
        {
          "output_type": "stream",
          "name": "stdout",
          "text": [
            "Chatbot con análisis de sentimiento (Español/Inglés)\n",
            "Escribe 'salir' para terminar.\n",
            "\n",
            "Tú: Me siento normal\n",
            "Sentimiento detectado: Neutral (confianza: 0.40)\n",
            "Bot: Entiendo. ¿Quieres contarme más?\n",
            "\n",
            "Tú: Quisiera ver más allá\n",
            "Sentimiento detectado: Neutral (confianza: 0.34)\n",
            "Bot: Entiendo. ¿Quieres contarme más?\n",
            "\n",
            "Tú: Me gusta el color de esa app\n",
            "Sentimiento detectado: Positivo (confianza: 0.50)\n",
            "Bot: ¡Me alegra escuchar eso!\n",
            "\n",
            "Tú: Esa lentitud no es agradable\n",
            "Sentimiento detectado: Negativo (confianza: 0.51)\n",
            "Bot: Lo siento mucho ¿Cómo puedo ayudarte?\n",
            "\n",
            "Tú: salir\n",
            "Bot: ¡Hasta luego!\n"
          ]
        }
      ]
    }
  ]
}